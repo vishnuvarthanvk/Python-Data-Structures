{
 "cells": [
  {
   "cell_type": "code",
   "execution_count": null,
   "id": "bf918442",
   "metadata": {},
   "outputs": [],
   "source": [
    "# 225229147\n",
    "##Vishnuvarthan V K\n"
   ]
  },
  {
   "cell_type": "code",
   "execution_count": null,
   "id": "8c353b46",
   "metadata": {},
   "outputs": [],
   "source": [
    "#1.create a function that takes two arguments, name and age, and print their value"
   ]
  },
  {
   "cell_type": "code",
   "execution_count": 1,
   "id": "55ed916a",
   "metadata": {},
   "outputs": [
    {
     "name": "stdout",
     "output_type": "stream",
     "text": [
      "My name is Vish and my age is 21\n"
     ]
    }
   ],
   "source": [
    "def intr(my_name,my_age):\n",
    "    print(\"My name is\",my_name,'and my age is',my_age)\n",
    "my_name='Vish'\n",
    "my_age=21\n",
    "intr(my_name,my_age)\n",
    "\n"
   ]
  },
  {
   "cell_type": "code",
   "execution_count": null,
   "id": "3677de51",
   "metadata": {},
   "outputs": [],
   "source": [
    "#2.create function func1() to accept a variable length of arguments and print their value"
   ]
  },
  {
   "cell_type": "code",
   "execution_count": 3,
   "id": "234147e3",
   "metadata": {},
   "outputs": [
    {
     "name": "stdout",
     "output_type": "stream",
     "text": [
      "2\n",
      "41\n",
      "36\n"
     ]
    }
   ],
   "source": [
    "def func1(*a):\n",
    "    for i in a:\n",
    "        print(i)\n",
    "func1(2, 41, 36)"
   ]
  },
  {
   "cell_type": "code",
   "execution_count": null,
   "id": "79286dc7",
   "metadata": {},
   "outputs": [],
   "source": [
    "#3.create function calculation() such that it can accept two variables and calculate addition and subtraction. "
   ]
  },
  {
   "cell_type": "code",
   "execution_count": 4,
   "id": "75ffb30b",
   "metadata": {},
   "outputs": [
    {
     "name": "stdout",
     "output_type": "stream",
     "text": [
      "(41, 9)\n"
     ]
    }
   ],
   "source": [
    "def calculation(a, b):\n",
    "    add= a + b\n",
    "    sub= a - b\n",
    "    return add, sub\n",
    "res = calculation(25, 16)\n",
    "print(res)"
   ]
  },
  {
   "cell_type": "code",
   "execution_count": null,
   "id": "24a5728b",
   "metadata": {},
   "outputs": [],
   "source": [
    "#4.create a function show_employee() using the following conditions. \n"
   ]
  },
  {
   "cell_type": "code",
   "execution_count": 5,
   "id": "acb867e9",
   "metadata": {},
   "outputs": [
    {
     "name": "stdout",
     "output_type": "stream",
     "text": [
      "Name: Abu salary: 12000\n",
      "Name: Mark salary: 9000\n"
     ]
    }
   ],
   "source": [
    "def show_employee(name, salary=9000):\n",
    "    print(\"Name:\", name, \"salary:\", salary)\n",
    "\n",
    "show_employee(\"Abu\", 12000)\n",
    "show_employee(\"Mark\")"
   ]
  },
  {
   "cell_type": "code",
   "execution_count": null,
   "id": "81ba16b3",
   "metadata": {},
   "outputs": [],
   "source": [
    "#5.Python function to sum all the numbers in a list"
   ]
  },
  {
   "cell_type": "code",
   "execution_count": 8,
   "id": "b6278097",
   "metadata": {},
   "outputs": [
    {
     "name": "stdout",
     "output_type": "stream",
     "text": [
      "87\n"
     ]
    }
   ],
   "source": [
    "def sum_lis(a):\n",
    "    sum1=0\n",
    "    for i in a:\n",
    "        sum1+=i\n",
    "    return sum1\n",
    "b=[5,17,36,29]\n",
    "print(sum_lis(b))\n",
    "    "
   ]
  },
  {
   "cell_type": "code",
   "execution_count": null,
   "id": "21a8849d",
   "metadata": {},
   "outputs": [],
   "source": [
    "#6.python function given string is palindrome or not"
   ]
  },
  {
   "cell_type": "code",
   "execution_count": 10,
   "id": "4f1c6190",
   "metadata": {},
   "outputs": [
    {
     "name": "stdout",
     "output_type": "stream",
     "text": [
      "malayalam is a palindrome\n",
      "banjar is not a palindrome\n"
     ]
    }
   ],
   "source": [
    "def palind(a):\n",
    "    if a==a[::-1]:\n",
    "        print(a,\"is a palindrome\")\n",
    "    else:\n",
    "        print(a,\"is not a palindrome\")\n",
    "palind(\"malayalam\")\n",
    "palind(\"banjar\")"
   ]
  },
  {
   "cell_type": "code",
   "execution_count": null,
   "id": "3bc63b78",
   "metadata": {},
   "outputs": [],
   "source": [
    "#7.python function to print only odd numbers"
   ]
  },
  {
   "cell_type": "code",
   "execution_count": 12,
   "id": "23733e76",
   "metadata": {},
   "outputs": [
    {
     "name": "stdout",
     "output_type": "stream",
     "text": [
      "21\n",
      "9\n",
      "17\n",
      "35\n"
     ]
    }
   ],
   "source": [
    "def odd_num(a):\n",
    "     for i in a:\n",
    "        if i%2!=0:\n",
    "            print(i)\n",
    "lst=[14,21,9,17,32,28,35]\n",
    "odd_num(lst)"
   ]
  },
  {
   "cell_type": "code",
   "execution_count": null,
   "id": "3418d3ef",
   "metadata": {},
   "outputs": [],
   "source": [
    "#8.Develop a function front_back that takes in a string and return a new string where the first and last characters have been changed."
   ]
  },
  {
   "cell_type": "code",
   "execution_count": 13,
   "id": "216b24fe",
   "metadata": {},
   "outputs": [
    {
     "name": "stdout",
     "output_type": "stream",
     "text": [
      "eeroplana\n"
     ]
    }
   ],
   "source": [
    "def front_back(a):\n",
    "    return a[-1]+a[1:-1]+a[0]\n",
    "print(front_back(\"aeroplane\"))"
   ]
  },
  {
   "cell_type": "code",
   "execution_count": null,
   "id": "a176a72c",
   "metadata": {},
   "outputs": [],
   "source": [
    "#9.Develop a function count(string, search) that returns the number of times search character appears in string."
   ]
  },
  {
   "cell_type": "code",
   "execution_count": 14,
   "id": "67845434",
   "metadata": {},
   "outputs": [
    {
     "name": "stdout",
     "output_type": "stream",
     "text": [
      "Count is 2\n"
     ]
    }
   ],
   "source": [
    "def count(stri,sea):\n",
    "    cou=0\n",
    "    for i in stri:\n",
    "        if i==sea:\n",
    "            cou+=1\n",
    "    print(\"Count is\",cou)\n",
    "count(\"encyclopedia\",\"c\")           "
   ]
  },
  {
   "cell_type": "code",
   "execution_count": null,
   "id": "92d8e420",
   "metadata": {},
   "outputs": [],
   "source": [
    "#10..Develop a function find(string, char) that returns the position of char if exists, otherwise print -1"
   ]
  },
  {
   "cell_type": "code",
   "execution_count": 17,
   "id": "e9c4f291",
   "metadata": {},
   "outputs": [
    {
     "name": "stdout",
     "output_type": "stream",
     "text": [
      "Position is 6\n"
     ]
    }
   ],
   "source": [
    "def find(stri,sea):\n",
    "    for i in stri:\n",
    "        if i==sea:\n",
    "            print(\"Position is\",stri.index(i)+1)\n",
    "    if sea not in stri:\n",
    "            print(\"Position is -1\")\n",
    "find(\"bhubaneshwar\",\"n\")"
   ]
  },
  {
   "cell_type": "code",
   "execution_count": null,
   "id": "2b2f6d1f",
   "metadata": {},
   "outputs": [],
   "source": [
    "#11.Write the function program in below requirements \n",
    "#a. Remove the first letter of the word"
   ]
  },
  {
   "cell_type": "code",
   "execution_count": 18,
   "id": "39106d92",
   "metadata": {},
   "outputs": [
    {
     "name": "stdout",
     "output_type": "stream",
     "text": [
      "elhi\n"
     ]
    }
   ],
   "source": [
    "def rem_fir_word(a):\n",
    "    return a[1:]\n",
    "print(rem_fir_word(\"Delhi\"))"
   ]
  },
  {
   "cell_type": "code",
   "execution_count": null,
   "id": "a2978040",
   "metadata": {},
   "outputs": [],
   "source": [
    "#b.Place the first letter of the word at the end of the word"
   ]
  },
  {
   "cell_type": "code",
   "execution_count": 22,
   "id": "f6a33a48",
   "metadata": {},
   "outputs": [
    {
     "name": "stdout",
     "output_type": "stream",
     "text": [
      "ikeb\n"
     ]
    }
   ],
   "source": [
    "def firin_last(a):\n",
    "    print(a[1:]+a[0])\n",
    "firin_last(\"bike\")"
   ]
  },
  {
   "cell_type": "code",
   "execution_count": null,
   "id": "8f725533",
   "metadata": {},
   "outputs": [],
   "source": [
    "#c.Add the string ”ay” to the end of the word, word is Python"
   ]
  },
  {
   "cell_type": "code",
   "execution_count": 24,
   "id": "0157897f",
   "metadata": {},
   "outputs": [
    {
     "name": "stdout",
     "output_type": "stream",
     "text": [
      "Pythonay\n"
     ]
    }
   ],
   "source": [
    "def add_i(a):\n",
    "    return a[:]+'ay'\n",
    "print(add_i(\"Python\"))"
   ]
  },
  {
   "cell_type": "code",
   "execution_count": null,
   "id": "b6b9b35a",
   "metadata": {},
   "outputs": [],
   "source": [
    "#12.Write a program that counts the # of spaces, digits, vowels and consonants in a string that the user inputs"
   ]
  },
  {
   "cell_type": "code",
   "execution_count": 28,
   "id": "cb4d6f29",
   "metadata": {},
   "outputs": [
    {
     "name": "stdout",
     "output_type": "stream",
     "text": [
      "Vowels: 6\n",
      "Consonant: 8\n",
      "Digit: 3\n",
      "Special Character: 2\n"
     ]
    }
   ],
   "source": [
    "def countCharacterType(str):\n",
    "    vowels = 0\n",
    "    consonant = 0\n",
    "    specialChar = 0\n",
    "    digit = 0\n",
    "  \n",
    "    for i in range(0, len(str)): \n",
    "        ch = str[i] \n",
    "        if ( (ch >= 'a' and ch <= 'z') or \n",
    "             (ch >= 'A' and ch <= 'Z') ): \n",
    "  \n",
    "            ch = ch.lower()\n",
    "  \n",
    "            if (ch == 'a' or ch == 'e' or ch == 'i' \n",
    "                        or ch == 'o' or ch == 'u'):\n",
    "                vowels += 1\n",
    "            else:\n",
    "                consonant += 1\n",
    "          \n",
    "        elif (ch >= '0' and ch <= '9'):\n",
    "            digit += 1\n",
    "        else:\n",
    "            specialChar += 1\n",
    "      \n",
    "    print(\"Vowels:\", vowels)\n",
    "    print(\"Consonant:\", consonant) \n",
    "    print(\"Digit:\", digit) \n",
    "    print(\"Special Character:\", specialChar)\n",
    "countCharacterType(\"Heyhai123@gmail.com\")"
   ]
  },
  {
   "cell_type": "code",
   "execution_count": null,
   "id": "d20da7de",
   "metadata": {},
   "outputs": [],
   "source": [
    "#13.Write a function replace(s, old, new) that replaces all occurrences of old with new in a string s: 1. replace(\"Mississippi\", \"i\", \"I\") as \"MIssIssIppI\""
   ]
  },
  {
   "cell_type": "code",
   "execution_count": 30,
   "id": "2aec852f",
   "metadata": {},
   "outputs": [
    {
     "name": "stdout",
     "output_type": "stream",
     "text": [
      "MIssIssIppI\n"
     ]
    }
   ],
   "source": [
    "def repl(a,b,c):\n",
    "    for i in a:\n",
    "        if i==b:\n",
    "            d=a.replace(b,c)\n",
    "    return d\n",
    "print(repl(\"Mississippi\",\"i\",\"I\"))"
   ]
  },
  {
   "cell_type": "code",
   "execution_count": null,
   "id": "b6401837",
   "metadata": {},
   "outputs": [],
   "source": [
    "#14.Explain below built-in function \n",
    "#a. How to find minimum value in given data"
   ]
  },
  {
   "cell_type": "code",
   "execution_count": 33,
   "id": "d9970683",
   "metadata": {},
   "outputs": [
    {
     "data": {
      "text/plain": [
       "1"
      ]
     },
     "execution_count": 33,
     "metadata": {},
     "output_type": "execute_result"
    }
   ],
   "source": [
    "min(1,2,3,4,5)"
   ]
  },
  {
   "cell_type": "code",
   "execution_count": null,
   "id": "ef995619",
   "metadata": {},
   "outputs": [],
   "source": [
    "#b.Li=[1,3,3,2,3] here 3 is three time occur in this list so which built in function suitable"
   ]
  },
  {
   "cell_type": "code",
   "execution_count": 34,
   "id": "97ce6fe3",
   "metadata": {},
   "outputs": [
    {
     "data": {
      "text/plain": [
       "3"
      ]
     },
     "execution_count": 34,
     "metadata": {},
     "output_type": "execute_result"
    }
   ],
   "source": [
    "Li=[1,3,3,2,3]\n",
    "Li.count(3)"
   ]
  },
  {
   "cell_type": "code",
   "execution_count": null,
   "id": "d146254f",
   "metadata": {},
   "outputs": [],
   "source": [
    "#c.Explain any two math function with suitable example"
   ]
  },
  {
   "cell_type": "code",
   "execution_count": 38,
   "id": "be1873e0",
   "metadata": {},
   "outputs": [
    {
     "name": "stdout",
     "output_type": "stream",
     "text": [
      "15\n",
      "16.76305461424021\n"
     ]
    }
   ],
   "source": [
    "import math\n",
    "print(math.floor(15.735))\n",
    "print(math.sqrt(281))\n"
   ]
  },
  {
   "cell_type": "code",
   "execution_count": null,
   "id": "0dd03a79",
   "metadata": {},
   "outputs": [],
   "source": [
    "#15.What is mean by function? And explain positional argument with suitable example"
   ]
  },
  {
   "cell_type": "raw",
   "id": "50d87280",
   "metadata": {},
   "source": [
    "A function is a block of code which only runs when it is called. A function can return data as result.To call it, use the function name with paranthesis."
   ]
  },
  {
   "cell_type": "code",
   "execution_count": 39,
   "id": "98cb3df2",
   "metadata": {},
   "outputs": [
    {
     "name": "stdout",
     "output_type": "stream",
     "text": [
      "Hello Python\n"
     ]
    }
   ],
   "source": [
    "def fun():\n",
    "    print(\"Hello Python\")\n",
    "fun()"
   ]
  },
  {
   "cell_type": "raw",
   "id": "3c694838",
   "metadata": {},
   "source": [
    "Positional Argument:\n",
    "    A positional argument in python is an argument whose position matters in a function call."
   ]
  },
  {
   "cell_type": "code",
   "execution_count": 40,
   "id": "414767d3",
   "metadata": {},
   "outputs": [
    {
     "name": "stdout",
     "output_type": "stream",
     "text": [
      "Name  Elis\n",
      "Age  16\n"
     ]
    }
   ],
   "source": [
    "def det(a,b):\n",
    "    print(\"Name \",a)\n",
    "    print(\"Age \",b)\n",
    "det(\"Elis\",'16')\n"
   ]
  }
 ],
 "metadata": {
  "kernelspec": {
   "display_name": "Python 3 (ipykernel)",
   "language": "python",
   "name": "python3"
  },
  "language_info": {
   "codemirror_mode": {
    "name": "ipython",
    "version": 3
   },
   "file_extension": ".py",
   "mimetype": "text/x-python",
   "name": "python",
   "nbconvert_exporter": "python",
   "pygments_lexer": "ipython3",
   "version": "3.9.12"
  }
 },
 "nbformat": 4,
 "nbformat_minor": 5
}
