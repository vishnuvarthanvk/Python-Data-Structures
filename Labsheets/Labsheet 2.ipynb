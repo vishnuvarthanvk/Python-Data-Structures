{
 "cells": [
  {
   "cell_type": "code",
   "execution_count": 1,
   "id": "6da1c409",
   "metadata": {},
   "outputs": [
    {
     "name": "stdout",
     "output_type": "stream",
     "text": [
      "Enter a number:5\n",
      "Enter a number:6\n",
      "Enter a number:9\n",
      "Enter a number:12\n",
      "Enter a number:-5\n",
      "Sum is: 32\n"
     ]
    }
   ],
   "source": [
    "#Finding the sum of n numbers using while loop\n",
    "sum=0\n",
    "while True:\n",
    "    a=int(input(\"Enter a number:\"))\n",
    "    if a<0:\n",
    "        break\n",
    "    sum+=a\n",
    "print(\"Sum is:\",sum)"
   ]
  },
  {
   "cell_type": "code",
   "execution_count": 2,
   "id": "ef51c150",
   "metadata": {},
   "outputs": [
    {
     "name": "stdout",
     "output_type": "stream",
     "text": [
      "Enter m:4\n",
      "Enter n:26\n",
      "Sum of the even numbers between m and n is: 180\n",
      "Do you want to quit(Type q)?\n",
      "Enter m:28\n",
      "Enter n:14\n",
      "Value of m should be less than n\n",
      "Do you want to quit(Type q)?\n",
      "Enter m:14\n",
      "Enter n:22\n",
      "Sum of the even numbers between m and n is: 90\n",
      "Do you want to quit(Type q)?q\n"
     ]
    }
   ],
   "source": [
    "#Finding the sum of even numbers between two no.s\n",
    "while True:\n",
    "    m=int(input(\"Enter m:\"))\n",
    "    n=int(input(\"Enter n:\"))\n",
    "    if m<n:\n",
    "        sum=0\n",
    "        for i in range(m,n+1):\n",
    "            if i%2==0:\n",
    "                sum+=i\n",
    "        print(\"Sum of the even numbers between m and n is:\",sum)\n",
    "    else:\n",
    "        print(\"Value of m should be less than n\")\n",
    "    ques=input(\"Do you want to quit(Type q)?\")\n",
    "    if ques=='q':\n",
    "        break"
   ]
  },
  {
   "cell_type": "code",
   "execution_count": 3,
   "id": "86e693e9",
   "metadata": {},
   "outputs": [
    {
     "name": "stdout",
     "output_type": "stream",
     "text": [
      "Enter the n:8\n",
      "8 * 1 = 8\n",
      "8 * 2 = 16\n",
      "8 * 3 = 24\n",
      "8 * 4 = 32\n",
      "8 * 5 = 40\n",
      "8 * 6 = 48\n",
      "8 * 7 = 56\n",
      "8 * 8 = 64\n",
      "8 * 9 = 72\n",
      "8 * 10 = 80\n"
     ]
    }
   ],
   "source": [
    "#printing the multiplication table of 8\n",
    "n=int(input('Enter the n:'))\n",
    "for i in range(1,11):\n",
    "    print(n,'*',i,'=',n*i)"
   ]
  },
  {
   "cell_type": "code",
   "execution_count": 4,
   "id": "a58469b3",
   "metadata": {},
   "outputs": [
    {
     "name": "stdout",
     "output_type": "stream",
     "text": [
      "Enter the number:125\n",
      "Sum is: 8\n"
     ]
    }
   ],
   "source": [
    "#Finding the sum of digits of a number\n",
    "num=int(input(\"Enter the number:\"))\n",
    "sum=0\n",
    "while num:\n",
    "    r=num%10\n",
    "    sum+=r\n",
    "    num=num//10\n",
    "print(\"Sum is:\",sum)\n"
   ]
  },
  {
   "cell_type": "code",
   "execution_count": 5,
   "id": "f6258792",
   "metadata": {},
   "outputs": [
    {
     "name": "stdout",
     "output_type": "stream",
     "text": [
      "Enter the number:13\n",
      "Enter the number:24\n",
      "Enter the number:47\n",
      "Enter the number:29\n",
      "Enter the number:60\n",
      "Enter the number:rty\n",
      "Error:Invalid Value\n",
      "Enter the number:87\n",
      "Enter the number:17\n",
      "Enter the number:33\n",
      "Enter the number:done\n",
      "Total of the numbers: 370\n",
      "Count of the numbers: 9\n",
      "Average of the numbers: 41.111111111111114\n"
     ]
    }
   ],
   "source": [
    "#calculating the total,count,and average of a series of numbers\n",
    "tot=0\n",
    "count=0\n",
    "while True:\n",
    "    num=input(\"Enter the number:\")\n",
    "    if num=='done':\n",
    "        break\n",
    "    try:\n",
    "        num1=int(num)\n",
    "    except:\n",
    "        print(\"Error:Invalid Value\")\n",
    "    tot=tot+num1\n",
    "    count=count+1\n",
    "avg=tot/count\n",
    "print(\"Total of the numbers:\",tot)\n",
    "print(\"Count of the numbers:\",count)\n",
    "print(\"Average of the numbers:\",avg)"
   ]
  },
  {
   "cell_type": "code",
   "execution_count": null,
   "id": "15282126",
   "metadata": {},
   "outputs": [],
   "source": []
  }
 ],
 "metadata": {
  "kernelspec": {
   "display_name": "Python 3 (ipykernel)",
   "language": "python",
   "name": "python3"
  },
  "language_info": {
   "codemirror_mode": {
    "name": "ipython",
    "version": 3
   },
   "file_extension": ".py",
   "mimetype": "text/x-python",
   "name": "python",
   "nbconvert_exporter": "python",
   "pygments_lexer": "ipython3",
   "version": "3.9.12"
  }
 },
 "nbformat": 4,
 "nbformat_minor": 5
}
