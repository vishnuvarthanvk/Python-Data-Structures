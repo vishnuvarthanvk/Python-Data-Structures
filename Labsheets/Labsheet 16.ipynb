{
 "cells": [
  {
   "cell_type": "markdown",
   "id": "21267801",
   "metadata": {},
   "source": [
    "# 225229147\n"
   ]
  },
  {
   "cell_type": "markdown",
   "id": "5b2b154b",
   "metadata": {},
   "source": [
    "## Vishnuvarthan V K"
   ]
  },
  {
   "cell_type": "markdown",
   "id": "4ea51659",
   "metadata": {},
   "source": [
    "# Lab 16- Concurrent programming"
   ]
  },
  {
   "cell_type": "code",
   "execution_count": null,
   "id": "e53c8c80",
   "metadata": {},
   "outputs": [],
   "source": [
    "# Qn.1"
   ]
  },
  {
   "cell_type": "code",
   "execution_count": 3,
   "id": "7b047870",
   "metadata": {},
   "outputs": [
    {
     "name": "stdout",
     "output_type": "stream",
     "text": [
      "47\n"
     ]
    }
   ],
   "source": [
    "import random as rm\n",
    "rand_number=0\n",
    "class Thread:\n",
    "    def __init__(self,rand_number):\n",
    "        self.a=rand_number\n",
    "    def generate(self,rand_number):\n",
    "        self.x=rm.randint(1,100)\n",
    "    def display(self):\n",
    "        print(self.x)\n",
    "ob=Thread(rand_number)\n",
    "ob.generate(rand_number)\n",
    "ob.display()"
   ]
  },
  {
   "cell_type": "code",
   "execution_count": null,
   "id": "134e8d09",
   "metadata": {},
   "outputs": [],
   "source": [
    "#Qn.2"
   ]
  },
  {
   "cell_type": "code",
   "execution_count": 27,
   "id": "d18c4048",
   "metadata": {},
   "outputs": [
    {
     "name": "stdout",
     "output_type": "stream",
     "text": [
      "Thread 1 sleeps 69 second\n",
      "Thread 2 sleeps 17 second\n",
      "Thread 3 sleeps 54 second\n",
      "Thread 4 sleeps 87 second\n",
      "Thread 5 sleeps 26 second\n"
     ]
    }
   ],
   "source": [
    "i=0\n",
    "class Thread:\n",
    "    count=0\n",
    "    @classmethod\n",
    "    def countcl(cls):\n",
    "        cls.count+=1\n",
    "    def __init__(self,i):\n",
    "        Thread.countcl()\n",
    "        self.a=i\n",
    "    def display(self):\n",
    "        self.i=rm.randint(1,100)\n",
    "        print(\"Thread %s sleeps %s second\"%(Thread.count,self.i))\n",
    "ob1=Thread(i)\n",
    "ob1.display()\n",
    "ob2=Thread(i)\n",
    "ob2.display()    \n",
    "ob3=Thread(i)\n",
    "ob3.display()\n",
    "ob4=Thread(i)\n",
    "ob4.display()\n",
    "ob5=Thread(i)\n",
    "ob5.display()"
   ]
  },
  {
   "cell_type": "code",
   "execution_count": null,
   "id": "5347342f",
   "metadata": {},
   "outputs": [],
   "source": []
  }
 ],
 "metadata": {
  "kernelspec": {
   "display_name": "Python 3 (ipykernel)",
   "language": "python",
   "name": "python3"
  },
  "language_info": {
   "codemirror_mode": {
    "name": "ipython",
    "version": 3
   },
   "file_extension": ".py",
   "mimetype": "text/x-python",
   "name": "python",
   "nbconvert_exporter": "python",
   "pygments_lexer": "ipython3",
   "version": "3.9.12"
  }
 },
 "nbformat": 4,
 "nbformat_minor": 5
}
