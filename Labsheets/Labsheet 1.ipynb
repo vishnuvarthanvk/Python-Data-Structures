{
 "cells": [
  {
   "cell_type": "code",
   "execution_count": 1,
   "id": "e5abed47",
   "metadata": {},
   "outputs": [
    {
     "name": "stdout",
     "output_type": "stream",
     "text": [
      "Enter the value of l:20\n",
      "Enter the value of b14\n",
      "The area of triangle is 280\n",
      "The perimeter of the triangle is 68\n"
     ]
    }
   ],
   "source": [
    "#Program for calculating area and perimeter of rectangle\n",
    "l=int(input(\"Enter the value of l:\"))\n",
    "b=int(input(\"Enter the value of b\"))\n",
    "area=l*b\n",
    "print(\"The area of triangle is\",area)\n",
    "perimeter=2*(l+b)\n",
    "print(\"The perimeter of the triangle is\",perimeter)"
   ]
  },
  {
   "cell_type": "code",
   "execution_count": 2,
   "id": "f11ab1ca",
   "metadata": {},
   "outputs": [
    {
     "name": "stdout",
     "output_type": "stream",
     "text": [
      "Enter the employee nameVish\n",
      "Enter the annual basic salary250000\n",
      "Vish\n",
      "Salary is 250000\n",
      "Income tax is 20000.0\n"
     ]
    }
   ],
   "source": [
    "#Calculating Income tax for given Employee salary\n",
    "emp=input(\"Enter the employee name\")\n",
    "sal=int(input(\"Enter the annual basic salary\"))\n",
    "print(emp)\n",
    "print(\"Salary is\",sal)\n",
    "if(sal<150000):\n",
    "    income_tax=0\n",
    "elif(sal>150000 and sal<300000): \n",
    "    income_tax=(sal-150000)*0.2\n",
    "elif(sal>300000):\n",
    "    income_tax=(sal-150000)*0.3\n",
    "print(\"Income tax is\",income_tax)"
   ]
  },
  {
   "cell_type": "code",
   "execution_count": 3,
   "id": "bdd0b796",
   "metadata": {},
   "outputs": [
    {
     "name": "stdout",
     "output_type": "stream",
     "text": [
      "Enter name of item1:Rice\n",
      "Enter name of item2:Oil\n",
      "Enter name of item3:Mustard\n",
      "Enter price of item1:50\n",
      "Enter price of item2:200\n",
      "Enter price of item3:250\n",
      "Quantity of item1:5\n",
      "Quantity of item2:8\n",
      "Quantity of item3:6\n",
      "Three items are Rice Oil Mustard\n",
      "rate of item1: 50\n",
      "rate of item2: 200\n",
      "rate of item3: 250\n",
      "Quantity of Rice is 5\n",
      "Quantity of Oil is 8\n",
      "Quantity of Mustard is 6\n",
      "Discount is 670.0\n",
      "Total sales amount is 3350\n",
      "2680.0 is the final amount to pay\n"
     ]
    }
   ],
   "source": [
    "#Calculating discount for items purchased\n",
    "item1=input(\"Enter name of item1:\")\n",
    "item2=input(\"Enter name of item2:\")\n",
    "item3=input(\"Enter name of item3:\")\n",
    "price1=int(input(\"Enter price of item1:\"))\n",
    "price2=int(input(\"Enter price of item2:\"))\n",
    "price3=int(input(\"Enter price of item3:\"))\n",
    "qty1=int(input(\"Quantity of item1:\"))\n",
    "qty2=int(input(\"Quantity of item2:\"))\n",
    "qty3=int(input(\"Quantity of item3:\"))\n",
    "print(\"Three items are\",item1,item2,item3)\n",
    "print(\"rate of item1:\",price1)\n",
    "print(\"rate of item2:\",price2)\n",
    "print(\"rate of item3:\",price3)\n",
    "print(\"Quantity of\",item1,\"is\",qty1)\n",
    "print(\"Quantity of\",item2,\"is\",qty2)\n",
    "print(\"Quantity of\",item3,\"is\",qty3)\n",
    "amnt=(qty1*price1)+(qty2*price2)+(qty3*price3)\n",
    "if(amnt>2000):\n",
    "    dis=amnt*0.20\n",
    "    print(\"Discount is\",dis)\n",
    "elif(amnt>1500 and amnt<1999):\n",
    "        dis=amnt*0.15\n",
    "        print(\"Discount is\",dis)\n",
    "elif(amnt>1000 and amnt<1499):\n",
    "            dis=amnt*0.08\n",
    "            print(\"Discount is\",dis)\n",
    "final=amnt-dis\n",
    "print(\"Total sales amount is\",amnt)\n",
    "print(final,\"is the final amount to pay\")"
   ]
  },
  {
   "cell_type": "code",
   "execution_count": 4,
   "id": "f2ed14ea",
   "metadata": {},
   "outputs": [
    {
     "name": "stdout",
     "output_type": "stream",
     "text": [
      "188.88888888888889\n",
      "7\n"
     ]
    }
   ],
   "source": [
    "#Various arithmetic operations\n",
    "X1=(11+31+23+8+7+5)/((1-(1/2)-(1/20)))\n",
    "X2=(((10*8)+8-((7//5)%(5**4)))&3)|(2<<1)\n",
    "print(X1)\n",
    "print(X2)"
   ]
  },
  {
   "cell_type": "code",
   "execution_count": 5,
   "id": "c0541218",
   "metadata": {},
   "outputs": [
    {
     "name": "stdout",
     "output_type": "stream",
     "text": [
      "Enter name:Vish\n",
      "Enter your first mark:70\n",
      "Enter your second mark:81\n",
      "Enter your third mark:58\n",
      "Total= 209\n",
      "Average= 69.66666666666667\n",
      "congratulations Vish you secured a total of 209 and your class is II\n"
     ]
    }
   ],
   "source": [
    "#Calculating Grade based on average\n",
    "name=input(\"Enter name:\")\n",
    "mar1=int(input(\"Enter your first mark:\"))\n",
    "mar2=int(input(\"Enter your second mark:\"))\n",
    "mar3=int(input(\"Enter your third mark:\"))\n",
    "tot=mar1+mar2+mar3\n",
    "avg=tot/3\n",
    "print(\"Total=\",tot)\n",
    "print(\"Average=\",avg)\n",
    "if(avg>80):\n",
    "    print(\"congratulations\",name,\"you secured a total of\",tot,\"and your class is I\")\n",
    "elif(avg>=60 and avg<=80):\n",
    "    print(\"congratulations\",name,\"you secured a total of\",tot,\"and your class is II\")\n",
    "elif(avg>40 and avg<60):\n",
    "    print(\"congratulations\",name,\"you secured a total of\",tot,\"and your class is III\")\n",
    "else:\n",
    "    print(\"Fail\")"
   ]
  },
  {
   "cell_type": "code",
   "execution_count": 6,
   "id": "4989ad8b",
   "metadata": {},
   "outputs": [
    {
     "name": "stdout",
     "output_type": "stream",
     "text": [
      "Read a number:84\n",
      "84 is a positive number\n",
      "84 is an even number\n",
      "ASCII value represents uppercase\n"
     ]
    }
   ],
   "source": [
    "#Printing the type of the given variable\n",
    "a=int(input(\"Read a number:\"))\n",
    "if(a>0):\n",
    "    print(a,\"is a positive number\")\n",
    "elif(a<0):\n",
    "    print(a,\"is a negative number\")\n",
    "elif(a==0):\n",
    "    print(\"The number is zero\")\n",
    "if(a%2!=0):\n",
    "    print(a,\"is an odd number\")\n",
    "elif(a%2==0):\n",
    "    print(a,\"is an even number\")\n",
    "if(a<90 and a>65):\n",
    "    print(\"ASCII value represents uppercase\")\n",
    "elif(a>97 and a<122):\n",
    "    print(\"ASCII value represents lowercase\")"
   ]
  }
 ],
 "metadata": {
  "kernelspec": {
   "display_name": "Python 3 (ipykernel)",
   "language": "python",
   "name": "python3"
  },
  "language_info": {
   "codemirror_mode": {
    "name": "ipython",
    "version": 3
   },
   "file_extension": ".py",
   "mimetype": "text/x-python",
   "name": "python",
   "nbconvert_exporter": "python",
   "pygments_lexer": "ipython3",
   "version": "3.9.12"
  }
 },
 "nbformat": 4,
 "nbformat_minor": 5
}
