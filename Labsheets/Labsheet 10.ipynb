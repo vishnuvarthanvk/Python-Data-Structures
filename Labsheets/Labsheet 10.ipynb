{
 "cells": [
  {
   "cell_type": "markdown",
   "id": "ffd54d0b",
   "metadata": {},
   "source": [
    "# Labsheet 10"
   ]
  },
  {
   "cell_type": "markdown",
   "id": "d1af1387",
   "metadata": {},
   "source": [
    "### 1. Write a program to implement math function"
   ]
  },
  {
   "cell_type": "code",
   "execution_count": 1,
   "id": "79159289",
   "metadata": {},
   "outputs": [
    {
     "data": {
      "text/plain": [
       "[1.0, 1.4142135623730951, 2.0, 2.449489742783178]"
      ]
     },
     "execution_count": 1,
     "metadata": {},
     "output_type": "execute_result"
    }
   ],
   "source": [
    "#1\n",
    "from math import sqrt\n",
    "a=map(sqrt,[1,2,4,6])\n",
    "list(a)"
   ]
  },
  {
   "cell_type": "code",
   "execution_count": 2,
   "id": "92e0b1ca",
   "metadata": {},
   "outputs": [
    {
     "data": {
      "text/plain": [
       "[1.0, 1.4142135623730951, 2.0, 2.449489742783178]"
      ]
     },
     "execution_count": 2,
     "metadata": {},
     "output_type": "execute_result"
    }
   ],
   "source": [
    "def mymap(a):\n",
    "    b=[]\n",
    "    for i in a:\n",
    "        c=i**(1/2)\n",
    "        b.append(c)\n",
    "    return b\n",
    "mymap([1,2,4,6])"
   ]
  },
  {
   "cell_type": "markdown",
   "id": "d62158ce",
   "metadata": {},
   "source": [
    "### 2.Write a program to implement filter function"
   ]
  },
  {
   "cell_type": "code",
   "execution_count": 3,
   "id": "49f8aa0f",
   "metadata": {},
   "outputs": [
    {
     "name": "stdout",
     "output_type": "stream",
     "text": [
      "['Y', 'Z']\n"
     ]
    }
   ],
   "source": [
    "#2\n",
    "a=filter(str.isupper, ['x', 'Y', '2', '3', 'Z', 'b']) \n",
    "print(list(a))"
   ]
  },
  {
   "cell_type": "code",
   "execution_count": 5,
   "id": "014e16f6",
   "metadata": {},
   "outputs": [
    {
     "data": {
      "text/plain": [
       "['Y', 'Z']"
      ]
     },
     "execution_count": 5,
     "metadata": {},
     "output_type": "execute_result"
    }
   ],
   "source": [
    "def myfilter(a): \n",
    "    b=[]\n",
    "    for i in a:\n",
    "        if i.isupper():\n",
    "            b.append(i)\n",
    "    return b\n",
    "\n",
    "l=['x', 'Y', '2', '3', 'Z', 'b'] \n",
    "myfilter (l)"
   ]
  },
  {
   "cell_type": "markdown",
   "id": "1a459545",
   "metadata": {},
   "source": [
    "### 3.Write a program to create a lambda function and use reduce function"
   ]
  },
  {
   "cell_type": "code",
   "execution_count": 6,
   "id": "571db24c",
   "metadata": {},
   "outputs": [
    {
     "data": {
      "text/plain": [
       "'xabcd'"
      ]
     },
     "execution_count": 6,
     "metadata": {},
     "output_type": "execute_result"
    }
   ],
   "source": [
    "#3\n",
    "\n",
    "from functools import reduce \n",
    "a=reduce(lambda x,y:x+y, ['a', 'b', 'c', 'd'], 'x') \n",
    "a\n"
   ]
  },
  {
   "cell_type": "markdown",
   "id": "92912a5f",
   "metadata": {},
   "source": [
    "### 4.Write a python program using lambda and map functions using acounting routine"
   ]
  },
  {
   "cell_type": "code",
   "execution_count": 7,
   "id": "b6b10a22",
   "metadata": {},
   "outputs": [
    {
     "name": "stdout",
     "output_type": "stream",
     "text": [
      "[('34587', 163.8), ('98762', 284.0), ('77226', 88.85000000000001), ('88112', 64.97)]\n"
     ]
    }
   ],
   "source": [
    "orders = [ [\"34587\", \"Learning Python, Mark Lutz\", 4, 40.95], \n",
    "           [\"98762\", \"Programming Python, Mark Lutz\", 5, 56.80], \n",
    "           [\"77226\", \"Head First Python, Paul Barry\", 3,32.95],\n",
    "           [\"88112\", \"Einführung in Python3, Bernd Klein\", \t3, 24.99]]\n",
    "min_order = 100\n",
    "invoice_totals = list(map(lambda x: x if x[1] >= min_order else (x[0], x[1] - 10), \n",
    "                  map(lambda x: (x[0],x[2] * x[3]), orders)))\n",
    "print(invoice_totals)"
   ]
  },
  {
   "cell_type": "code",
   "execution_count": null,
   "id": "ef72f1cf",
   "metadata": {},
   "outputs": [],
   "source": []
  }
 ],
 "metadata": {
  "kernelspec": {
   "display_name": "Python 3 (ipykernel)",
   "language": "python",
   "name": "python3"
  },
  "language_info": {
   "codemirror_mode": {
    "name": "ipython",
    "version": 3
   },
   "file_extension": ".py",
   "mimetype": "text/x-python",
   "name": "python",
   "nbconvert_exporter": "python",
   "pygments_lexer": "ipython3",
   "version": "3.9.12"
  }
 },
 "nbformat": 4,
 "nbformat_minor": 5
}
