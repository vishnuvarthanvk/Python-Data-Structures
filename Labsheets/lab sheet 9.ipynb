{
 "cells": [
  {
   "cell_type": "code",
   "execution_count": 4,
   "id": "db71fecb",
   "metadata": {
    "scrolled": true
   },
   "outputs": [
    {
     "name": "stdout",
     "output_type": "stream",
     "text": [
      "creating new account\n",
      "creating new account\n",
      "creating new account\n",
      "Account[123]-John,Current Account = 10.05\n",
      "Account[345]-John,Savings Account = 23.55\n",
      "Account[567]-Pheobe,Investment Account = 12.45\n",
      "Balance :  21.17\n"
     ]
    }
   ],
   "source": [
    "#1 Creating class\n",
    "class Account:\n",
    "    instance_count=0\n",
    "    @classmethod\n",
    "    def increment_instance_count(cls):\n",
    "        print('creating new account')\n",
    "        cls.instance_count+=1\n",
    "    def __init__(self,account_number,account_holder,opening_balance,account_type):\n",
    "        Account.increment_instance_count()\n",
    "        self.account_number=account_number\n",
    "        self.account_holder=account_holder\n",
    "        self.balance=opening_balance\n",
    "        self.type=account_type\n",
    "    def deposit(self,amount):\n",
    "        self.balance+=amount\n",
    "    def withdraw(self,amount):\n",
    "        self.balance-=amount\n",
    "    def get_balance(self):\n",
    "        return self.balance\n",
    "    def __str__(self):\n",
    "        return 'Account[' + self.account_number +']-' + self.account_holder + ',' + self.type + ' Account = '+str(self.balance)\n",
    "    \n",
    "acc1=Account('123','John',10.05,'Current')\n",
    "acc2=Account('345','John',23.55,'Savings')\n",
    "acc3=Account('567','Pheobe',12.45,'Investment')\n",
    "\n",
    "print(acc1)\n",
    "print(acc2)\n",
    "print(acc3)\n",
    "\n",
    "\n",
    "acc1.deposit(23.45)\n",
    "acc1.withdraw(12.33)\n",
    "print(\"Balance : \",acc1.get_balance())  "
   ]
  },
  {
   "cell_type": "code",
   "execution_count": 5,
   "id": "fb1da8f9",
   "metadata": {},
   "outputs": [
    {
     "name": "stdout",
     "output_type": "stream",
     "text": [
      "Number of Account instance created :  3\n"
     ]
    }
   ],
   "source": [
    "#2\n",
    "print('Number of Account instance created : ',Account.instance_count)"
   ]
  },
  {
   "cell_type": "code",
   "execution_count": 6,
   "id": "a2c5f2a9",
   "metadata": {},
   "outputs": [],
   "source": [
    "#3&4 Various class creation\n",
    "class CurrentAccount(Account):\n",
    "    def __init__(self , account_number , account_holder , opening_balance , over_limit):\n",
    "        super().__init__(account_number , account_holder , opening_balance , 'current')\n",
    "        self.over_limit = -over_limit\n",
    "    def withdraw (self,amt):\n",
    "        if self.balance-amt < self.over_limit:\n",
    "            print(\"WARNING : withdraw would exceed your limit\" )\n",
    "    def __str__(self):\n",
    "        return super().__str__() + ' overdraft limit:' + str(self.over_limit)"
   ]
  },
  {
   "cell_type": "code",
   "execution_count": 7,
   "id": "02701b0f",
   "metadata": {},
   "outputs": [],
   "source": [
    "class DepositAccount(Account):\n",
    "    def __init__(self,account_number,account_holder,opening_balance,interest_rate):\n",
    "        super().__init__(account_number,account_holder,opening_balance,'deposit')\n",
    "        self.interest_rate=interest_rate\n",
    "    def __str__(self):\n",
    "        return super().__str__()+' interest_rate:'+str(self.interest_rate)"
   ]
  },
  {
   "cell_type": "code",
   "execution_count": 8,
   "id": "31a3b19a",
   "metadata": {},
   "outputs": [],
   "source": [
    "class InvestmentAccount(Account):\n",
    "    def __init__(self,account_number,account_holder,opening_balance,investment_type):\n",
    "        super().__init__(account_number,account_holder,opening_balance,'investment')\n",
    "        self.investment_type=investment_type\n",
    "    def __str__(self):\n",
    "        return super().__str__()+' investment_type:'+str(self.investment_type)"
   ]
  },
  {
   "cell_type": "code",
   "execution_count": 9,
   "id": "a692a2da",
   "metadata": {},
   "outputs": [
    {
     "name": "stdout",
     "output_type": "stream",
     "text": [
      "creating new account\n",
      "Account[123]-John,current Account = 10.05 overdraft limit:-100.0\n",
      "creating new account\n",
      "Account[567]-phoebe,investment Account = 12.64 investment_type:high risk\n",
      "creating new account\n",
      "Account[345]-John,deposit Account = 23.55 interest_rate:0.5\n"
     ]
    }
   ],
   "source": [
    "aco1=CurrentAccount('123','John',10.05,100.0)\n",
    "print(aco1)\n",
    "aco2=InvestmentAccount('567','phoebe',12.64,'high risk')\n",
    "print(aco2)\n",
    "aco3=DepositAccount('345','John',23.55,0.5)\n",
    "print(aco3)"
   ]
  },
  {
   "cell_type": "code",
   "execution_count": 10,
   "id": "8907d95e",
   "metadata": {},
   "outputs": [
    {
     "name": "stdout",
     "output_type": "stream",
     "text": [
      "balance: 32.290000000000006\n"
     ]
    }
   ],
   "source": [
    "acc1.deposit(23.45)\n",
    "acc1.withdraw(12.33)\n",
    "print('balance:',acc1.get_balance())"
   ]
  },
  {
   "cell_type": "code",
   "execution_count": 11,
   "id": "5152647a",
   "metadata": {},
   "outputs": [
    {
     "name": "stdout",
     "output_type": "stream",
     "text": [
      "balance: -267.71\n"
     ]
    }
   ],
   "source": [
    "acc1.withdraw(300.00)\n",
    "print('balance:',acc1.get_balance())"
   ]
  },
  {
   "cell_type": "code",
   "execution_count": 24,
   "id": "cbfb46dd",
   "metadata": {},
   "outputs": [
    {
     "name": "stdout",
     "output_type": "stream",
     "text": [
      "number of account instance created: 6\n"
     ]
    }
   ],
   "source": [
    "print('number of account instance created:',Account.instance_count)"
   ]
  },
  {
   "cell_type": "code",
   "execution_count": 34,
   "id": "2df7e129",
   "metadata": {},
   "outputs": [],
   "source": [
    "#5,6,7,8 Error class creation\n",
    "class BalanceError(Exception):\n",
    "    \"\"\" The Balance will be invalid \"\"\"\n",
    "    def __init__(self, account):\n",
    "        self.account = account\n",
    "class AmountError(Exception):\n",
    "    def __init__(self, account, msg):\n",
    "        self.account = account\n",
    "        self.message = msg\n",
    "    def __str__(self):\n",
    "        return 'AmountError (' + self.message + ') on ' + str(self.account)"
   ]
  },
  {
   "cell_type": "code",
   "execution_count": 38,
   "id": "91065b93",
   "metadata": {},
   "outputs": [],
   "source": [
    "class Account:\n",
    "    instance_count = 0\n",
    "    @classmethod\n",
    "    def increment_instance_count(cls):\n",
    "        print('Creating new Account')\n",
    "        cls.instance_count += 1\n",
    "    def __init__(self, account_number, account_holder, opening_balance, account_type):\n",
    "        Account.increment_instance_count()\n",
    "        self.account_number = account_number\n",
    "        self.account_holder = account_holder\n",
    "        self._balance = opening_balance\n",
    "        self.type = account_type\n",
    "    def deposit(self, amount):\n",
    "        if amount < 0:\n",
    "            print('You cannot deposit negative amounts')\n",
    "            raise AmountError(account = self, msg = 'Cannot deposit negative amounts')\n",
    "        else:\n",
    "            self._balance += amount\n",
    "    def withdraw(self, amount):\n",
    "        if amount < 0:\n",
    "            print('You cannot withdraw negative amounts')\n",
    "            raise AmountError(self, 'Cannot withdraw negative amounts')\n",
    "        else:\n",
    "            self._balance -= amount\n",
    "    @property\n",
    "    def balance(self):\n",
    "        \"\"\" Provides the current balance \"\"\"\n",
    "        return self._balance\n",
    "    def __str__(self):\n",
    "        return 'Account[' + self.account_number +'] - ' + \\\n",
    "                self.account_holder + ', ' + self.type + ' account = ' + str(self.balance)"
   ]
  },
  {
   "cell_type": "code",
   "execution_count": 39,
   "id": "40848078",
   "metadata": {},
   "outputs": [],
   "source": [
    "class CurrentAccount(Account):\n",
    "    def __init__(self, account_number, account_holder, opening_balance, overdraft_limit):\n",
    "        super().__init__(account_number, account_holder, opening_balance, 'current')\n",
    "        self.overdraft_limit = -overdraft_limit\n",
    "    def withdraw(self, amount):\n",
    "        if amount < 0:\n",
    "            print('You cannot withdraw negative amounts')\n",
    "            raise AmountError(self, 'Cannot withdraw negative amounts')\n",
    "        elif self.balance - amount < self.overdraft_limit:\n",
    "            print('Withdrawal would exceed your overdraft limit')\n",
    "            raise BalanceError(self)\n",
    "        else:\n",
    "            self._balance -= amount\n",
    "    def __str__(self):\n",
    "        return super().__str__() + 'overdraft limit: ' + str(self.overdraft_limit)"
   ]
  },
  {
   "cell_type": "code",
   "execution_count": 40,
   "id": "9db9b2ca",
   "metadata": {},
   "outputs": [],
   "source": [
    "class DepositAccount(Account):\n",
    "    def __init__(self, account_number, account_holder, opening_balance, interest_rate):\n",
    "        super().__init__(account_number, account_holder, opening_balance, 'deposit')\n",
    "        self.interest_rate = interest_rate\n",
    "    def __str__(self):\n",
    "        return super().__str__() + 'interest rate: ' + str(self.interest_rate)"
   ]
  },
  {
   "cell_type": "code",
   "execution_count": 41,
   "id": "1738025f",
   "metadata": {},
   "outputs": [],
   "source": [
    "class InvestmentAccount(Account):\n",
    "    def __init__(self, account_number, account_holder, opening_balance, investment_type):\n",
    "        super().__init__(account_number, account_holder, opening_balance, 'investment')\n",
    "        self.investment_type = investment_type\n",
    "    def __str__(self):\n",
    "        return super().__str__() + ', type: ' + self.type"
   ]
  },
  {
   "cell_type": "code",
   "execution_count": 42,
   "id": "8d6cd465",
   "metadata": {},
   "outputs": [
    {
     "name": "stdout",
     "output_type": "stream",
     "text": [
      "Creating new Account\n",
      "Creating new Account\n",
      "Creating new Account\n"
     ]
    }
   ],
   "source": [
    "acc1 = CurrentAccount('123', 'John', 10.05, 100.0)\n",
    "acc2 = DepositAccount('345', 'John', 23.55, 0.5)\n",
    "acc3 = InvestmentAccount('567', 'Phoebe', 12.45, 'high risk')"
   ]
  },
  {
   "cell_type": "code",
   "execution_count": 43,
   "id": "e7ad108d",
   "metadata": {},
   "outputs": [
    {
     "name": "stdout",
     "output_type": "stream",
     "text": [
      "Account[123] - John, current account = 10.05overdraft limit: -100.0\n",
      "Account[345] - John, deposit account = 23.55interest rate: 0.5\n",
      "Account[567] - Phoebe, investment account = 12.45, type: investment\n"
     ]
    }
   ],
   "source": [
    "print(acc1)\n",
    "print(acc2)\n",
    "print(acc3)"
   ]
  },
  {
   "cell_type": "code",
   "execution_count": 13,
   "id": "0bdb3fee",
   "metadata": {},
   "outputs": [
    {
     "name": "stdout",
     "output_type": "stream",
     "text": [
      "balance: -245.47\n",
      "Number of Account instances created: 6\n"
     ]
    }
   ],
   "source": [
    "acc1.deposit(23.45)\n",
    "acc1.withdraw(12.33)\n",
    "print('balance:', acc1.balance)\n",
    "print('Number of Account instances created:', Account.instance_count)\n"
   ]
  },
  {
   "cell_type": "code",
   "execution_count": 45,
   "id": "434bc68a",
   "metadata": {},
   "outputs": [
    {
     "name": "stdout",
     "output_type": "stream",
     "text": [
      "balance: 21.17\n",
      "Withdrawal would exceed your overdraft limit\n",
      "Handling Exception\n",
      "Account[123] - John, current account = 21.17overdraft limit: -100.0\n"
     ]
    }
   ],
   "source": [
    "try:\n",
    "    print('balance:', acc1.balance)\n",
    "    acc1.withdraw(300.00)\n",
    "    print('balance:', acc1.balance)\n",
    "except BalanceError as e:\n",
    "    print('Handling Exception')\n",
    "    print(e)"
   ]
  },
  {
   "cell_type": "code",
   "execution_count": 46,
   "id": "6e953f9b",
   "metadata": {},
   "outputs": [
    {
     "name": "stdout",
     "output_type": "stream",
     "text": [
      "You cannot deposit negative amounts\n",
      "AmountError (Cannot deposit negative amounts) on Account[123] - John, current account = 21.17overdraft limit: -100.0\n"
     ]
    }
   ],
   "source": [
    "try:\n",
    "    acc1.deposit(-1)\n",
    "except AmountError as e:\n",
    "    print(e)"
   ]
  }
 ],
 "metadata": {
  "kernelspec": {
   "display_name": "Python 3 (ipykernel)",
   "language": "python",
   "name": "python3"
  },
  "language_info": {
   "codemirror_mode": {
    "name": "ipython",
    "version": 3
   },
   "file_extension": ".py",
   "mimetype": "text/x-python",
   "name": "python",
   "nbconvert_exporter": "python",
   "pygments_lexer": "ipython3",
   "version": "3.9.12"
  }
 },
 "nbformat": 4,
 "nbformat_minor": 5
}
